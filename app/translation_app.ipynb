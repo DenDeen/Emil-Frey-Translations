{
 "cells": [
  {
   "cell_type": "code",
   "execution_count": null,
   "metadata": {},
   "outputs": [],
   "source": [
    "import pandas as pd\n",
    "\n",
    "df_output = pd.read_csv('input_files/PMS_repl_translations_sg_20221018.csv')\n",
    "\n",
    "df_output[\"Modified\"] = \"\"\n",
    "col_modified = df_output['Modified']\n",
    "df_output.drop(labels=['Modified'], axis=1,inplace = True)\n",
    "df_output.insert(0, 'Modified', col_modified)\n",
    "df_output[\"DE (Translation Tool)\"]=df_output[\"DE (Translation Tool)\"].values.astype('object')\n",
    "df_output[\"FR (Translation Tool)\"]=df_output[\"FR (Translation Tool)\"].values.astype('object')\n",
    "df_output[\"IT (Translation Tool)\"]=df_output[\"IT (Translation Tool)\"].values.astype('object')\n",
    "\n",
    "df_master = pd.read_csv('input_files/PMS_repl_translations_sg_20221018_dictionary.csv')\n",
    "\n",
    "df_output.dtypes"
   ]
  },
  {
   "cell_type": "code",
   "execution_count": null,
   "metadata": {},
   "outputs": [],
   "source": [
    "from rapidfuzz import fuzz, process\n",
    "import deepl\n",
    "\n",
    "auth_key = '325c848e-727d-6daf-ec26-cee3d14b11cc:fx'\n",
    "translator = deepl.Translator(auth_key)\n",
    "\n",
    "def deepl_translate(word):\n",
    "    translation_DE = translator.translate_text(word, target_lang=\"DE\", formality=\"more\").text\n",
    "    translation_FR = translator.translate_text(word, target_lang=\"FR\", formality=\"more\").text\n",
    "    translation_IT = translator.translate_text(word, target_lang=\"IT\", formality=\"more\").text\n",
    "    return translation_DE,translation_FR,translation_IT,'Deepl'\n",
    "\n",
    "def fuzzy_search(word):\n",
    "    df_master_filled = df_master['EN'].fillna('')\n",
    "    most_similar = process.extractOne(word, df_master_filled, scorer=fuzz.token_sort_ratio, score_cutoff = 90)\n",
    "    if most_similar:\n",
    "        df_temp = df_master.loc[df_master['EN'] == most_similar[0]]\n",
    "        return df_temp['DE'].values[0], df_temp['FR'].values[0], df_temp['IT'].values[0], 'Fuzzy: '+most_similar[0]+',  %8.2f' % most_similar[1]\n",
    "    else:\n",
    "        return deepl_translate(word)\n",
    "\n",
    "def find_EN_translations(word):\n",
    "    df_temp = df_master.loc[df_master['EN'] == word]\n",
    "    if df_temp.empty:\n",
    "        return fuzzy_search(word)\n",
    "    else:\n",
    "        de_temp = ''\n",
    "        fr_temp = '' \n",
    "        it_temp = ''\n",
    "        for i in df_temp:\n",
    "            if (df_temp['DE'].values[0]):\n",
    "                de_temp = df_temp['DE'].values[0]\n",
    "            if (df_temp['FR'].values[0]):\n",
    "                fr_temp = df_temp['FR'].values[0]\n",
    "            if (df_temp['IT'].values[0]):\n",
    "                it_temp = df_temp['IT'].values[0]\n",
    "        print(de_temp+fr_temp+it_temp)\n",
    "        return de_temp, fr_temp, it_temp, 'Identical match'\n"
   ]
  },
  {
   "cell_type": "code",
   "execution_count": null,
   "metadata": {},
   "outputs": [],
   "source": [
    "df_output_temp = df_output[df_output['EN'].notna()]\n",
    "for i in df_output_temp.index:\n",
    "    # Find row with translations in masterfile\n",
    "    cell_DE, cell_FR, cell_IT, cell_mod = find_EN_translations(df_output_temp.at[i, 'EN'])\n",
    "    df_output.at[i, 'DE (Translation Tool)'] = cell_DE\n",
    "    df_output.at[i, 'FR (Translation Tool)'] = cell_FR\n",
    "    df_output.at[i, 'IT (Translation Tool)'] = cell_IT\n",
    "    df_output.at[i, 'Modified'] = cell_mod"
   ]
  },
  {
   "cell_type": "code",
   "execution_count": null,
   "metadata": {},
   "outputs": [],
   "source": [
    "df_output.to_csv(\"output_files/PMS_repl_translations_sg_20221018_updated.csv\",index=None)"
   ]
  }
 ],
 "metadata": {
  "kernelspec": {
   "display_name": "Python 3.7.11 ('roborana')",
   "language": "python",
   "name": "python3"
  },
  "language_info": {
   "codemirror_mode": {
    "name": "ipython",
    "version": 3
   },
   "file_extension": ".py",
   "mimetype": "text/x-python",
   "name": "python",
   "nbconvert_exporter": "python",
   "pygments_lexer": "ipython3",
   "version": "3.7.11"
  },
  "orig_nbformat": 4,
  "vscode": {
   "interpreter": {
    "hash": "ad6a955691d3696c074676305c3ddba53513fe471db8a5bd62020d4b31fdac35"
   }
  }
 },
 "nbformat": 4,
 "nbformat_minor": 2
}

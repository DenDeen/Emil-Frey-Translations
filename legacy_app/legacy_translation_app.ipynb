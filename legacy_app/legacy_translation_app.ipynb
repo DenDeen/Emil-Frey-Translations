{
 "cells": [
  {
   "cell_type": "code",
   "execution_count": null,
   "metadata": {},
   "outputs": [],
   "source": [
    "import pandas as pd\n",
    "\n",
    "df_output = pd.read_csv('input_files/translations_vehicle360_sg_v1.0.csv')\n",
    "\n",
    "df_output[\"Modified\"] = \"\"\n",
    "col_modified = df_output['Modified']\n",
    "df_output.drop(labels=['Modified'], axis=1,inplace = True)\n",
    "df_output.insert(0, 'Modified', col_modified)\n",
    "\n",
    "df_input_1 = pd.read_csv('input_files/bi.csv')\n",
    "df_input_2 = pd.read_csv('input_files/biWebApp.csv')\n",
    "df_input_3 = pd.read_csv('input_files/inside_ffu_module.csv')\n",
    "df_input_4 = pd.read_csv('input_files/sales-module.csv')\n",
    "df_input_5 = pd.read_csv('input_files/vp-modules.csv')\n",
    "\n",
    "# Concatenation of all the given files \n",
    "# (easy because all the columns are the same)\n",
    "df_master = pd.concat([df_input_1, df_input_2,  df_input_3, df_input_4, df_input_5])"
   ]
  },
  {
   "cell_type": "code",
   "execution_count": null,
   "metadata": {},
   "outputs": [],
   "source": [
    "from rapidfuzz import fuzz, process\n",
    "import deepl\n",
    "\n",
    "auth_key = '325c848e-727d-6daf-ec26-cee3d14b11cc:fx'\n",
    "translator = deepl.Translator(auth_key)\n",
    "\n",
    "def deepl_translate(word):\n",
    "    translation_DE = translator.translate_text(word, target_lang=\"DE\", formality=\"more\").text\n",
    "    translation_FR = translator.translate_text(word, target_lang=\"FR\", formality=\"more\").text\n",
    "    translation_IT = translator.translate_text(word, target_lang=\"IT\", formality=\"more\").text\n",
    "    return translation_DE,translation_FR,translation_IT,'Deepl'\n",
    "\n",
    "def fuzzy_search(word):\n",
    "    if '{' in word:\n",
    "        return '','','','Ignored'\n",
    "    else:\n",
    "        df_master_filled = df_master['EN'].fillna('')\n",
    "        most_similar = process.extractOne(word, df_master_filled, scorer=fuzz.token_sort_ratio, score_cutoff = 90)\n",
    "        if most_similar:\n",
    "            df_temp = df_master.loc[df_master['EN'] == most_similar[0]]\n",
    "            return df_temp['DE'].values[0], df_temp['FR'].values[0], df_temp['IT'].values[0], 'Fuzzy: '+most_similar[0]+',  %8.2f' % most_similar[1]\n",
    "        else:\n",
    "            return deepl_translate(word)\n",
    "\n",
    "def find_DE_translations(word):\n",
    "    df_temp = df_master.loc[df_master['DE'] == word]\n",
    "    if df_temp.empty:\n",
    "        return ''\n",
    "    else:\n",
    "        return df_temp['EN'].values[0]\n",
    "\n",
    "def find_EN_translations(word):\n",
    "    df_temp = df_master.loc[df_master['EN'] == word]\n",
    "    if df_temp.empty:\n",
    "        return fuzzy_search(word)\n",
    "    else:\n",
    "        return df_temp['DE'].values[0], df_temp['FR'].values[0], df_temp['IT'].values[0], 'Identical match'\n",
    "\n",
    "def find_FR_translations(word):\n",
    "    if '{' in word:\n",
    "        return ''\n",
    "    else:    \n",
    "        return translator.translate_text(word, target_lang=\"FR\", formality=\"more\").text\n",
    "\n",
    "def find_IT_translations(word):\n",
    "    if '{' in word:\n",
    "        return ''\n",
    "    else:  \n",
    "        return translator.translate_text(word, target_lang=\"IT\", formality=\"more\").text\n"
   ]
  },
  {
   "cell_type": "code",
   "execution_count": null,
   "metadata": {},
   "outputs": [],
   "source": [
    "df_output_EN_nan = df_output[df_output['EN'].isna()]\n",
    "\n",
    "for i in df_output_EN_nan.index:\n",
    "    # Find row with translations in masterfile\n",
    "    en_value = find_DE_translations(df_output_EN_nan.at[i, 'DE'])\n",
    "    df_output.at[i, 'EN'] = en_value\n",
    "\n",
    "df_output_EN_nan"
   ]
  },
  {
   "cell_type": "code",
   "execution_count": null,
   "metadata": {},
   "outputs": [],
   "source": [
    "df_output_DE_nan = df_output[df_output['DE'].isna()]\n",
    "\n",
    "for i in df_output_DE_nan.index:\n",
    "    # Find row with translations in masterfile\n",
    "    cell_DE, cell_FR, cell_IT, cell_mod = find_EN_translations(df_output_DE_nan.at[i, 'EN'])\n",
    "    df_output.at[i, 'DE'] = cell_DE\n",
    "    df_output.at[i, 'FR'] = cell_FR\n",
    "    df_output.at[i, 'IT'] = cell_IT\n",
    "    df_output.at[i, 'Modified'] = cell_mod"
   ]
  },
  {
   "cell_type": "code",
   "execution_count": null,
   "metadata": {},
   "outputs": [],
   "source": [
    "df_output_FR_nan = df_output[df_output['FR'].isna()]\n",
    "\n",
    "for i in df_output_FR_nan.index:\n",
    "    # Find row with translations in masterfile\n",
    "    cell_FR = find_FR_translations(df_output_FR_nan.at[i, 'EN'])\n",
    "    df_output.at[i, 'FR'] = cell_FR\n",
    "    df_output.at[i, 'Modified'] += ' + FR'"
   ]
  },
  {
   "cell_type": "code",
   "execution_count": null,
   "metadata": {},
   "outputs": [],
   "source": [
    "df_output_IT_nan = df_output[df_output['IT'].isna()]\n",
    "\n",
    "for i in df_output_IT_nan.index:\n",
    "    # Find row with translations in masterfile\n",
    "    cell_IT = find_IT_translations(df_output_IT_nan.at[i, 'EN'])\n",
    "    df_output.at[i, 'IT'] = cell_IT\n",
    "    df_output.at[i, 'Modified'] += ' + IT'"
   ]
  },
  {
   "cell_type": "code",
   "execution_count": null,
   "metadata": {},
   "outputs": [],
   "source": [
    "df_output"
   ]
  },
  {
   "cell_type": "code",
   "execution_count": null,
   "metadata": {},
   "outputs": [],
   "source": [
    "df_output.to_csv(\"output_files/translations_vehicle360_sg_v1.0_updated.csv\",index=None)"
   ]
  },
  {
   "cell_type": "code",
   "execution_count": null,
   "metadata": {},
   "outputs": [],
   "source": [
    "df_output.iloc[[458]]"
   ]
  },
  {
   "cell_type": "code",
   "execution_count": null,
   "metadata": {},
   "outputs": [],
   "source": []
  }
 ],
 "metadata": {
  "kernelspec": {
   "display_name": "Python 3.7.11 ('roborana')",
   "language": "python",
   "name": "python3"
  },
  "language_info": {
   "codemirror_mode": {
    "name": "ipython",
    "version": 3
   },
   "file_extension": ".py",
   "mimetype": "text/x-python",
   "name": "python",
   "nbconvert_exporter": "python",
   "pygments_lexer": "ipython3",
   "version": "3.7.11"
  },
  "orig_nbformat": 4,
  "vscode": {
   "interpreter": {
    "hash": "ad6a955691d3696c074676305c3ddba53513fe471db8a5bd62020d4b31fdac35"
   }
  }
 },
 "nbformat": 4,
 "nbformat_minor": 2
}
